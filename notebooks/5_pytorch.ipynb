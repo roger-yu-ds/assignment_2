{
 "cells": [
  {
   "cell_type": "markdown",
   "source": [
    "# Introduction\n",
    "\n",
    "This notebook predicts the `beer_style` using a neural network on the PyTorch\n",
    "framework. It is a modification of the 4_pytorch.ipynb notebook. Even with a\n",
    "doubling of neurons and an addition of another layer, there is no overfitting.\n",
    "Futhermore, the validation accuracy increased, albeit by a little, and the\n",
    "test accuracy stayed at 0.3.\n",
    "\n",
    "This notebook will double the neurons yet again.\n",
    "\n",
    "## Summary\n",
    "The increase of neurons has improved the model performance. The\n",
    "[classification report](#Classification-report) shows that the test accuracy\n",
    "has increased to 0.31 (from 0.3)."
   ],
   "metadata": {
    "collapsed": false
   }
  },
  {
   "cell_type": "code",
   "execution_count": 1,
   "outputs": [],
   "source": [
    "artefact_prefix = '5_pytorch'\n",
    "target = 'beer_style'"
   ],
   "metadata": {
    "collapsed": false,
    "pycharm": {
     "name": "#%%\n"
    }
   }
  },
  {
   "cell_type": "code",
   "execution_count": 2,
   "outputs": [],
   "source": [
    "%load_ext autoreload\n",
    "%autoreload 2"
   ],
   "metadata": {
    "collapsed": false,
    "pycharm": {
     "name": "#%%\n"
    }
   }
  },
  {
   "cell_type": "code",
   "execution_count": 3,
   "outputs": [],
   "source": [
    "from dotenv import find_dotenv\n",
    "from datetime import datetime\n",
    "import pandas as pd\n",
    "from pathlib import Path\n",
    "import numpy as np\n",
    "import torch\n",
    "import torch.nn as nn\n",
    "import torch.nn.functional as F\n",
    "from torch.utils.data import Dataset, DataLoader\n",
    "from category_encoders.binary import BinaryEncoder\n",
    "from sklearn.metrics import confusion_matrix\n",
    "from sklearn.metrics import classification_report\n",
    "from sklearn.pipeline import Pipeline\n",
    "from sklearn.preprocessing import StandardScaler, LabelEncoder, OneHotEncoder\n",
    "from joblib import dump, load\n",
    "\n",
    "from src.data.sets import merge_categories\n",
    "from src.data.sets import save_sets\n",
    "from src.data.sets import load_sets\n",
    "from src.data.sets import split_sets_random\n",
    "from src.data.sets import test_class_exclusion\n",
    "from src.models.performance import convert_cr_to_dataframe\n",
    "from src.models.pytorch import PytorchClassification_5\n",
    "from src.models.pytorch import get_device\n",
    "from src.models.pytorch import train_classification\n",
    "from src.models.pytorch import test_classification\n",
    "from src.models.pytorch import PytorchDataset\n",
    "from src.models.pipes import create_preprocessing_pipe\n",
    "from src.visualization.visualize import plot_confusion_matrix"
   ],
   "metadata": {
    "collapsed": false,
    "pycharm": {
     "name": "#%%\n"
    }
   }
  },
  {
   "cell_type": "markdown",
   "source": [
    "# Set up directories"
   ],
   "metadata": {
    "collapsed": false
   }
  },
  {
   "cell_type": "code",
   "execution_count": 4,
   "outputs": [],
   "source": [
    "project_dir = Path(find_dotenv()).parent\n",
    "data_dir = project_dir / 'data'\n",
    "raw_data_dir = data_dir / 'raw'\n",
    "interim_data_dir = data_dir / 'interim'\n",
    "processed_data_dir = data_dir / 'processed'\n",
    "reports_dir = project_dir / 'reports'\n",
    "models_dir = project_dir / 'models'"
   ],
   "metadata": {
    "collapsed": false,
    "pycharm": {
     "name": "#%% Set directory\n"
    }
   }
  },
  {
   "cell_type": "markdown",
   "source": [
    "# Load data"
   ],
   "metadata": {
    "collapsed": false
   }
  },
  {
   "cell_type": "code",
   "execution_count": 5,
   "outputs": [],
   "source": [
    "X_train, X_test, X_val, y_train, y_test, y_val = load_sets()"
   ],
   "metadata": {
    "collapsed": false,
    "pycharm": {
     "name": "#%%\n"
    }
   }
  },
  {
   "cell_type": "markdown",
   "source": [
    "# Preprocess data\n",
    "\n",
    "1. The `brewery_name` is a feature with a very high cardinality, ~5700. One hot encoding is not feasible as it will introduce 5700 very sparse columns. Another option is to use binary encoding, which would result in 14 new columns.\n",
    "1. Standard scaling is used to ensure that the binary columns ([0, 1])and the review columns ([1, 5]) are on the same scale."
   ],
   "metadata": {
    "collapsed": false
   }
  },
  {
   "cell_type": "code",
   "execution_count": 6,
   "outputs": [],
   "source": [
    "pipe = Pipeline([\n",
    "    ('bin_encoder', BinaryEncoder(cols=['brewery_name'])),\n",
    "    ('scaler', StandardScaler())\n",
    "])"
   ],
   "metadata": {
    "collapsed": false,
    "pycharm": {
     "name": "#%%\n"
    }
   }
  },
  {
   "cell_type": "code",
   "execution_count": 7,
   "outputs": [],
   "source": [
    "X_train_trans = pipe.fit_transform(X_train)\n",
    "X_val_trans = pipe.transform(X_val)\n",
    "X_test_trans = pipe.transform(X_test)"
   ],
   "metadata": {
    "collapsed": false,
    "pycharm": {
     "name": "#%%\n"
    }
   }
  },
  {
   "cell_type": "code",
   "execution_count": 8,
   "outputs": [
    {
     "data": {
      "text/plain": "(951968, 18)"
     },
     "execution_count": 8,
     "metadata": {},
     "output_type": "execute_result"
    }
   ],
   "source": [
    "X_train_trans.shape"
   ],
   "metadata": {
    "collapsed": false,
    "pycharm": {
     "name": "#%%\n"
    }
   }
  },
  {
   "cell_type": "code",
   "execution_count": 9,
   "outputs": [
    {
     "data": {
      "text/plain": "18"
     },
     "execution_count": 9,
     "metadata": {},
     "output_type": "execute_result"
    }
   ],
   "source": [
    "n_features = X_train_trans.shape[1]\n",
    "n_features"
   ],
   "metadata": {
    "collapsed": false,
    "pycharm": {
     "name": "#%%\n"
    }
   }
  },
  {
   "cell_type": "code",
   "execution_count": 10,
   "outputs": [
    {
     "data": {
      "text/plain": "104"
     },
     "execution_count": 10,
     "metadata": {},
     "output_type": "execute_result"
    }
   ],
   "source": [
    "n_classes = y_train.nunique()\n",
    "n_classes"
   ],
   "metadata": {
    "collapsed": false,
    "pycharm": {
     "name": "#%%\n"
    }
   }
  },
  {
   "cell_type": "markdown",
   "source": [
    "## Encoding\n",
    "\n",
    "PyTorch accepts only numerical labels."
   ],
   "metadata": {
    "collapsed": false
   }
  },
  {
   "cell_type": "code",
   "execution_count": 11,
   "outputs": [
    {
     "name": "stderr",
     "output_type": "stream",
     "text": [
      "C:\\Users\\Roger\\.conda\\envs\\adsi_ass_2\\lib\\site-packages\\sklearn\\preprocessing\\_label.py:251: DataConversionWarning: A column-vector y was passed when a 1d array was expected. Please change the shape of y to (n_samples, ), for example using ravel().\n",
      "  y = column_or_1d(y, warn=True)\n",
      "C:\\Users\\Roger\\.conda\\envs\\adsi_ass_2\\lib\\site-packages\\sklearn\\preprocessing\\_label.py:268: DataConversionWarning: A column-vector y was passed when a 1d array was expected. Please change the shape of y to (n_samples, ), for example using ravel().\n",
      "  y = column_or_1d(y, warn=True)\n"
     ]
    }
   ],
   "source": [
    "le = LabelEncoder()\n",
    "y_train_trans = le.fit_transform(y_train.to_frame())\n",
    "y_val_trans = le.fit_transform(y_val.to_frame())\n",
    "y_test_trans = le.transform(y_test.to_frame())"
   ],
   "metadata": {
    "collapsed": false,
    "pycharm": {
     "name": "#%%\n"
    }
   }
  },
  {
   "cell_type": "code",
   "execution_count": 12,
   "outputs": [
    {
     "data": {
      "text/plain": "array([98, 89,  2, ..., 37, 94, 98])"
     },
     "execution_count": 12,
     "metadata": {},
     "output_type": "execute_result"
    }
   ],
   "source": [
    "y_test_trans"
   ],
   "metadata": {
    "collapsed": false,
    "pycharm": {
     "name": "#%%\n"
    }
   }
  },
  {
   "cell_type": "markdown",
   "source": [
    "## Convert to Pytorch tensors"
   ],
   "metadata": {
    "collapsed": false
   }
  },
  {
   "cell_type": "code",
   "execution_count": 13,
   "outputs": [
    {
     "data": {
      "text/plain": "device(type='cuda', index=0)"
     },
     "execution_count": 13,
     "metadata": {},
     "output_type": "execute_result"
    }
   ],
   "source": [
    "device = get_device()\n",
    "device"
   ],
   "metadata": {
    "collapsed": false,
    "pycharm": {
     "name": "#%%\n"
    }
   }
  },
  {
   "cell_type": "code",
   "execution_count": 14,
   "outputs": [],
   "source": [
    "train_dataset = PytorchDataset(X=X_train_trans, y=y_train_trans)\n",
    "val_dataset = PytorchDataset(X=X_val_trans, y=y_val_trans)\n",
    "test_dataset = PytorchDataset(X=X_test_trans, y=y_test_trans)"
   ],
   "metadata": {
    "collapsed": false,
    "pycharm": {
     "name": "#%%\n"
    }
   }
  },
  {
   "cell_type": "markdown",
   "source": [
    "# Classification model"
   ],
   "metadata": {
    "collapsed": false
   }
  },
  {
   "cell_type": "code",
   "execution_count": 15,
   "outputs": [
    {
     "data": {
      "text/plain": "PytorchClassification_5(\n  (layer_1): Linear(in_features=18, out_features=2048, bias=True)\n  (batchnorm1): BatchNorm1d(2048, eps=1e-05, momentum=0.1, affine=True, track_running_stats=True)\n  (layer_2): Linear(in_features=2048, out_features=512, bias=True)\n  (batchnorm2): BatchNorm1d(512, eps=1e-05, momentum=0.1, affine=True, track_running_stats=True)\n  (layer_3): Linear(in_features=512, out_features=256, bias=True)\n  (batchnorm3): BatchNorm1d(256, eps=1e-05, momentum=0.1, affine=True, track_running_stats=True)\n  (layer_4): Linear(in_features=256, out_features=64, bias=True)\n  (batchnorm4): BatchNorm1d(64, eps=1e-05, momentum=0.1, affine=True, track_running_stats=True)\n  (layer_out): Linear(in_features=64, out_features=104, bias=True)\n  (relu): ReLU()\n  (dropout): Dropout(p=0.2, inplace=False)\n)"
     },
     "execution_count": 15,
     "metadata": {},
     "output_type": "execute_result"
    }
   ],
   "source": [
    "model = PytorchClassification_5(n_features=n_features, n_classes=n_classes)\n",
    "model"
   ],
   "metadata": {
    "collapsed": false,
    "pycharm": {
     "name": "#%%\n"
    }
   }
  },
  {
   "cell_type": "code",
   "execution_count": 16,
   "outputs": [
    {
     "data": {
      "text/plain": "PytorchClassification_5(\n  (layer_1): Linear(in_features=18, out_features=2048, bias=True)\n  (batchnorm1): BatchNorm1d(2048, eps=1e-05, momentum=0.1, affine=True, track_running_stats=True)\n  (layer_2): Linear(in_features=2048, out_features=512, bias=True)\n  (batchnorm2): BatchNorm1d(512, eps=1e-05, momentum=0.1, affine=True, track_running_stats=True)\n  (layer_3): Linear(in_features=512, out_features=256, bias=True)\n  (batchnorm3): BatchNorm1d(256, eps=1e-05, momentum=0.1, affine=True, track_running_stats=True)\n  (layer_4): Linear(in_features=256, out_features=64, bias=True)\n  (batchnorm4): BatchNorm1d(64, eps=1e-05, momentum=0.1, affine=True, track_running_stats=True)\n  (layer_out): Linear(in_features=64, out_features=104, bias=True)\n  (relu): ReLU()\n  (dropout): Dropout(p=0.2, inplace=False)\n)"
     },
     "execution_count": 16,
     "metadata": {},
     "output_type": "execute_result"
    }
   ],
   "source": [
    "model.to(device)"
   ],
   "metadata": {
    "collapsed": false,
    "pycharm": {
     "name": "#%%\n"
    }
   }
  },
  {
   "cell_type": "code",
   "execution_count": 17,
   "outputs": [],
   "source": [
    "criterion = nn.CrossEntropyLoss()"
   ],
   "metadata": {
    "collapsed": false,
    "pycharm": {
     "name": "#%%\n"
    }
   }
  },
  {
   "cell_type": "code",
   "execution_count": 18,
   "outputs": [],
   "source": [
    "optimizer = torch.optim.Adam(model.parameters(), lr=0.001)"
   ],
   "metadata": {
    "collapsed": false,
    "pycharm": {
     "name": "#%%\n"
    }
   }
  },
  {
   "cell_type": "markdown",
   "source": [
    "# Train the model"
   ],
   "metadata": {
    "collapsed": false
   }
  },
  {
   "cell_type": "code",
   "execution_count": 19,
   "outputs": [],
   "source": [
    "N_EPOCHS = 20\n",
    "BATCH_SIZE = 2048\n",
    "scheduler = torch.optim.lr_scheduler.StepLR(optimizer, 1, gamma=0.9)"
   ],
   "metadata": {
    "collapsed": false,
    "pycharm": {
     "name": "#%%\n"
    }
   }
  },
  {
   "cell_type": "code",
   "execution_count": 24,
   "outputs": [
    {
     "name": "stdout",
     "output_type": "stream",
     "text": [
      "Started: 2021-03-12 21:45:16.448017\n",
      "Epoch: 0\n",
      "\t(train)\tLoss: 0.0016\t|\tAcc: 19.3%\n",
      "\t(valid)\tLoss: 0.0014\t|\tAcc: 26.4%\n",
      "Epoch: 1\n",
      "\t(train)\tLoss: 0.0014\t|\tAcc: 24.6%\n",
      "\t(valid)\tLoss: 0.0013\t|\tAcc: 28.0%\n",
      "Epoch: 2\n",
      "\t(train)\tLoss: 0.0014\t|\tAcc: 25.8%\n",
      "\t(valid)\tLoss: 0.0013\t|\tAcc: 28.7%\n",
      "Epoch: 3\n",
      "\t(train)\tLoss: 0.0013\t|\tAcc: 26.4%\n",
      "\t(valid)\tLoss: 0.0012\t|\tAcc: 29.3%\n",
      "Epoch: 4\n",
      "\t(train)\tLoss: 0.0013\t|\tAcc: 26.9%\n",
      "\t(valid)\tLoss: 0.0012\t|\tAcc: 29.5%\n",
      "Epoch: 5\n",
      "\t(train)\tLoss: 0.0013\t|\tAcc: 27.1%\n",
      "\t(valid)\tLoss: 0.0012\t|\tAcc: 29.7%\n",
      "Epoch: 6\n",
      "\t(train)\tLoss: 0.0013\t|\tAcc: 27.4%\n",
      "\t(valid)\tLoss: 0.0012\t|\tAcc: 30.0%\n",
      "Epoch: 7\n",
      "\t(train)\tLoss: 0.0013\t|\tAcc: 27.7%\n",
      "\t(valid)\tLoss: 0.0012\t|\tAcc: 30.1%\n",
      "Epoch: 8\n",
      "\t(train)\tLoss: 0.0013\t|\tAcc: 27.9%\n",
      "\t(valid)\tLoss: 0.0012\t|\tAcc: 30.2%\n",
      "Epoch: 9\n",
      "\t(train)\tLoss: 0.0013\t|\tAcc: 28.0%\n",
      "\t(valid)\tLoss: 0.0012\t|\tAcc: 30.4%\n",
      "Epoch: 10\n",
      "\t(train)\tLoss: 0.0013\t|\tAcc: 28.1%\n",
      "\t(valid)\tLoss: 0.0012\t|\tAcc: 30.5%\n",
      "Epoch: 11\n",
      "\t(train)\tLoss: 0.0013\t|\tAcc: 28.3%\n",
      "\t(valid)\tLoss: 0.0012\t|\tAcc: 30.6%\n",
      "Epoch: 12\n",
      "\t(train)\tLoss: 0.0012\t|\tAcc: 28.4%\n",
      "\t(valid)\tLoss: 0.0012\t|\tAcc: 30.6%\n",
      "Epoch: 13\n",
      "\t(train)\tLoss: 0.0012\t|\tAcc: 28.5%\n",
      "\t(valid)\tLoss: 0.0012\t|\tAcc: 30.7%\n",
      "Epoch: 14\n",
      "\t(train)\tLoss: 0.0012\t|\tAcc: 28.5%\n",
      "\t(valid)\tLoss: 0.0012\t|\tAcc: 30.7%\n",
      "Epoch: 15\n",
      "\t(train)\tLoss: 0.0012\t|\tAcc: 28.6%\n",
      "\t(valid)\tLoss: 0.0012\t|\tAcc: 30.8%\n",
      "Epoch: 16\n",
      "\t(train)\tLoss: 0.0012\t|\tAcc: 28.7%\n",
      "\t(valid)\tLoss: 0.0012\t|\tAcc: 30.9%\n",
      "Epoch: 17\n",
      "\t(train)\tLoss: 0.0012\t|\tAcc: 28.8%\n",
      "\t(valid)\tLoss: 0.0012\t|\tAcc: 30.9%\n",
      "Epoch: 18\n",
      "\t(train)\tLoss: 0.0012\t|\tAcc: 28.9%\n",
      "\t(valid)\tLoss: 0.0012\t|\tAcc: 31.0%\n",
      "Epoch: 19\n",
      "\t(train)\tLoss: 0.0012\t|\tAcc: 28.8%\n",
      "\t(valid)\tLoss: 0.0012\t|\tAcc: 31.0%\n",
      "Ended: 2021-03-12 21:50:31.467486\n",
      "Runtime: 0:05:15.019469\n"
     ]
    }
   ],
   "source": [
    "start_time = datetime.now()\n",
    "print(f'Started: {start_time}')\n",
    "for epoch in range(N_EPOCHS):\n",
    "    train_loss, train_acc = train_classification(train_dataset,\n",
    "                                                 model=model,\n",
    "                                                 criterion=criterion, \n",
    "                                                 optimizer=optimizer,\n",
    "                                                 batch_size=BATCH_SIZE,\n",
    "                                                 device=device,\n",
    "                                                 scheduler=scheduler)\n",
    "    valid_loss, valid_acc = test_classification(val_dataset,\n",
    "                                                model=model,\n",
    "                                                criterion=criterion, \n",
    "                                                batch_size=BATCH_SIZE, \n",
    "                                                device=device)\n",
    "\n",
    "    print(f'Epoch: {epoch}')\n",
    "    print(f'\\t(train)\\tLoss: {train_loss:.4f}\\t|\\tAcc: {train_acc * 100:.1f}%')\n",
    "    print(f'\\t(valid)\\tLoss: {valid_loss:.4f}\\t|\\tAcc: {valid_acc * 100:.1f}%')\n",
    "\n",
    "end_time = datetime.now()\n",
    "runtime = end_time - start_time\n",
    "print(f'Ended: {end_time}')\n",
    "print(f'Runtime: {runtime}')"
   ],
   "metadata": {
    "collapsed": false,
    "pycharm": {
     "name": "#%%\n"
    }
   }
  },
  {
   "cell_type": "markdown",
   "source": [
    "# Prediction"
   ],
   "metadata": {
    "collapsed": false
   }
  },
  {
   "cell_type": "code",
   "execution_count": 28,
   "outputs": [
    {
     "data": {
      "text/plain": "tensor([25, 18,  9,  ..., 65, 47, 25])"
     },
     "execution_count": 28,
     "metadata": {},
     "output_type": "execute_result"
    }
   ],
   "source": [
    "# Use the CPU version if the GPU runs out of memory.\n",
    "# preds = model(test_dataset.X_tensor.to(device)).argmax(1)\n",
    "preds = model(test_dataset.X_tensor).argmax(1)\n",
    "preds"
   ],
   "metadata": {
    "collapsed": false,
    "pycharm": {
     "name": "#%%\n"
    }
   }
  },
  {
   "cell_type": "markdown",
   "source": [
    "# Evaluation"
   ],
   "metadata": {
    "collapsed": false
   }
  },
  {
   "cell_type": "markdown",
   "source": [
    "## Classification report"
   ],
   "metadata": {
    "collapsed": false
   }
  },
  {
   "cell_type": "code",
   "execution_count": 29,
   "outputs": [
    {
     "name": "stderr",
     "output_type": "stream",
     "text": [
      "C:\\Users\\Roger\\.conda\\envs\\adsi_ass_2\\lib\\site-packages\\sklearn\\metrics\\_classification.py:1272: UndefinedMetricWarning: Precision and F-score are ill-defined and being set to 0.0 in labels with no predicted samples. Use `zero_division` parameter to control this behavior.\n",
      "  _warn_prf(average, modifier, msg_start, len(result))\n"
     ]
    },
    {
     "name": "stdout",
     "output_type": "stream",
     "text": [
      "                                     precision    recall  f1-score   support\n",
      "\n",
      "                            Altbier       0.34      0.37      0.35      1521\n",
      "             American Adjunct Lager       0.59      0.73      0.65      6085\n",
      "           American Amber / Red Ale       0.20      0.24      0.22      9288\n",
      "         American Amber / Red Lager       0.32      0.36      0.34      1887\n",
      "                American Barleywine       0.25      0.03      0.05      5390\n",
      "                 American Black Ale       0.40      0.06      0.11      2394\n",
      "                American Blonde Ale       0.27      0.05      0.08      2594\n",
      "                 American Brown Ale       0.25      0.09      0.13      5066\n",
      "            American Dark Wheat Ale       0.00      0.00      0.00       296\n",
      "     American Double / Imperial IPA       0.27      0.35      0.30     17159\n",
      " American Double / Imperial Pilsner       0.19      0.00      0.01      1109\n",
      "   American Double / Imperial Stout       0.35      0.47      0.40     10187\n",
      "                       American IPA       0.20      0.50      0.29     23356\n",
      "               American Malt Liquor       0.73      0.25      0.37       759\n",
      "            American Pale Ale (APA)       0.19      0.19      0.19     12479\n",
      "                American Pale Lager       0.43      0.25      0.32      1871\n",
      "            American Pale Wheat Ale       0.20      0.17      0.18      4900\n",
      "                    American Porter       0.25      0.21      0.23     10097\n",
      "                     American Stout       0.22      0.34      0.26      4966\n",
      "                American Strong Ale       0.25      0.45      0.32      6335\n",
      "                  American Wild Ale       0.30      0.42      0.35      3494\n",
      "                      Baltic Porter       0.45      0.44      0.44      2322\n",
      "                   Belgian Dark Ale       0.11      0.02      0.04      1278\n",
      "                        Belgian IPA       0.38      0.18      0.24      2428\n",
      "                   Belgian Pale Ale       0.46      0.28      0.34      3954\n",
      "            Belgian Strong Dark Ale       0.40      0.39      0.39      7511\n",
      "            Belgian Strong Pale Ale       0.43      0.29      0.34      6181\n",
      "                 Berliner Weissbier       0.60      0.19      0.29       712\n",
      "    Bière de Champagne / Bière Brut       0.31      0.04      0.08       211\n",
      "                     Bière de Garde       0.43      0.41      0.42      1340\n",
      "                        Black & Tan       0.77      0.16      0.26       459\n",
      "                               Bock       0.11      0.27      0.16      2323\n",
      "                            Braggot       0.20      0.12      0.15       207\n",
      "     California Common / Steam Beer       0.22      0.31      0.26       809\n",
      "                         Chile Beer       0.96      0.16      0.27       496\n",
      "                          Cream Ale       0.23      0.15      0.18      1052\n",
      "                     Czech Pilsener       0.59      0.36      0.45      2484\n",
      "                         Doppelbock       0.42      0.34      0.38      4380\n",
      "          Dortmunder / Export Lager       0.34      0.18      0.23       928\n",
      "                             Dubbel       0.36      0.13      0.19      4036\n",
      "                       Dunkelweizen       0.30      0.02      0.03      1426\n",
      "                            Eisbock       0.23      0.29      0.26       506\n",
      "                 English Barleywine       0.52      0.19      0.27      2798\n",
      "                     English Bitter       0.25      0.21      0.23      1783\n",
      "                  English Brown Ale       0.36      0.28      0.32      3870\n",
      "              English Dark Mild Ale       0.61      0.09      0.16       482\n",
      "       English India Pale Ale (IPA)       0.24      0.15      0.18      3218\n",
      "                   English Pale Ale       0.40      0.48      0.44      4631\n",
      "              English Pale Mild Ale       0.00      0.00      0.00       135\n",
      "                     English Porter       0.37      0.23      0.28      2225\n",
      "                      English Stout       0.33      0.07      0.12       605\n",
      "                 English Strong Ale       0.46      0.14      0.22       982\n",
      "                    Euro Dark Lager       0.30      0.17      0.22       916\n",
      "                    Euro Pale Lager       0.58      0.72      0.65      3673\n",
      "                  Euro Strong Lager       0.49      0.19      0.28       542\n",
      "Extra Special / Strong Bitter (ESB)       0.26      0.14      0.18      3539\n",
      "                               Faro       0.00      0.00      0.00       117\n",
      "                 Flanders Oud Bruin       0.42      0.25      0.31       944\n",
      "                   Flanders Red Ale       0.79      0.63      0.70      1332\n",
      "             Foreign / Export Stout       0.40      0.41      0.40      1185\n",
      "             Fruit / Vegetable Beer       0.27      0.39      0.32      6710\n",
      "                    German Pilsener       0.42      0.30      0.35      4416\n",
      "                               Gose       0.58      0.60      0.59       119\n",
      "                             Gueuze       0.63      0.38      0.48      1206\n",
      "                           Happoshu       0.00      0.00      0.00        46\n",
      "                         Hefeweizen       0.37      0.30      0.33      5675\n",
      "               Herbed / Spiced Beer       0.37      0.07      0.11      2081\n",
      "                    Irish Dry Stout       0.62      0.53      0.57      2537\n",
      "                      Irish Red Ale       0.56      0.12      0.19      1572\n",
      "                Japanese Rice Lager       0.64      0.88      0.74       308\n",
      "         Keller Bier / Zwickel Bier       0.47      0.16      0.24       525\n",
      "                      Kristalweizen       0.16      0.02      0.04       426\n",
      "                              Kvass       0.48      0.16      0.24        63\n",
      "                             Kölsch       0.45      0.22      0.29      1678\n",
      "                     Lambic - Fruit       0.56      0.73      0.63      2152\n",
      "                 Lambic - Unblended       0.74      0.07      0.14       227\n",
      "                        Light Lager       0.46      0.50      0.48      2759\n",
      "                   Low Alcohol Beer       0.64      0.04      0.08       222\n",
      "              Maibock / Helles Bock       0.17      0.09      0.12      2087\n",
      "                 Milk / Sweet Stout       0.30      0.48      0.37      2623\n",
      "                Munich Dunkel Lager       0.33      0.25      0.28      1566\n",
      "                Munich Helles Lager       0.40      0.14      0.20      1600\n",
      "               Märzen / Oktoberfest       0.29      0.10      0.15      4777\n",
      "                      Oatmeal Stout       0.29      0.23      0.26      3646\n",
      "                            Old Ale       0.48      0.25      0.33      2927\n",
      "                        Pumpkin Ale       0.33      0.17      0.22      3122\n",
      "                   Quadrupel (Quad)       0.42      0.45      0.44      3737\n",
      "                          Rauchbier       0.71      0.53      0.61       817\n",
      "                         Roggenbier       0.00      0.00      0.00       101\n",
      "             Russian Imperial Stout       0.32      0.41      0.36     10792\n",
      "                           Rye Beer       0.28      0.19      0.23      2054\n",
      "                              Sahti       0.91      0.21      0.34       198\n",
      "             Saison / Farmhouse Ale       0.41      0.43      0.42      6327\n",
      "                        Schwarzbier       0.37      0.30      0.33      1956\n",
      "             Scotch Ale / Wee Heavy       0.34      0.22      0.27      3460\n",
      "                       Scottish Ale       0.34      0.34      0.34      1827\n",
      "Scottish Gruit / Ancient Herbed Ale       0.88      0.75      0.81       557\n",
      "                        Smoked Beer       1.00      0.00      0.00       556\n",
      "                             Tripel       0.31      0.21      0.25      6074\n",
      "                       Vienna Lager       0.16      0.11      0.13      1865\n",
      "                         Weizenbock       0.55      0.30      0.39      1922\n",
      "                          Wheatwine       0.00      0.00      0.00       731\n",
      "                      Winter Warmer       0.30      0.18      0.22      4130\n",
      "                            Witbier       0.36      0.20      0.25      5896\n",
      "\n",
      "                           accuracy                           0.31    317323\n",
      "                          macro avg       0.38      0.26      0.28    317323\n",
      "                       weighted avg       0.33      0.31      0.30    317323\n",
      "\n"
     ]
    }
   ],
   "source": [
    "report = classification_report(y_test, le.inverse_transform(preds.cpu()))\n",
    "print(report)"
   ],
   "metadata": {
    "collapsed": false,
    "pycharm": {
     "name": "#%%\n"
    }
   }
  },
  {
   "cell_type": "markdown",
   "source": [
    "# Save objects for production"
   ],
   "metadata": {
    "collapsed": false,
    "pycharm": {
     "name": "#%% md\n"
    }
   }
  },
  {
   "cell_type": "markdown",
   "source": [
    "## Save model"
   ],
   "metadata": {
    "collapsed": false
   }
  },
  {
   "cell_type": "code",
   "execution_count": 26,
   "outputs": [],
   "source": [
    "path = models_dir / f'{artefact_prefix}_model'\n",
    "torch.save(model, path.with_suffix('.torch'))"
   ],
   "metadata": {
    "collapsed": false,
    "pycharm": {
     "name": "#%%\n"
    }
   }
  },
  {
   "cell_type": "raw",
   "source": [
    "\n",
    "path = models_dir / f'{artefact_prefix}_model'\n",
    "# Use the CPU version if the GPU runs out of memory.\n",
    "# model = torch.load(path.with_suffix('.torch'))\n",
    "model = torch.load(path.with_suffix('.torch'), map_location=lambda storage, loc: storage)\n"
   ],
   "metadata": {
    "collapsed": false,
    "pycharm": {
     "name": "#%% raw\n"
    }
   }
  },
  {
   "cell_type": "markdown",
   "source": [
    "## Create pipe object\n",
    "\n",
    "This is for transforming the input prior to prediction."
   ],
   "metadata": {
    "collapsed": false
   }
  },
  {
   "cell_type": "code",
   "execution_count": 27,
   "outputs": [
    {
     "data": {
      "text/plain": "['D:\\\\git\\\\assignment_2\\\\models\\\\5_pytorch_pipe.sav']"
     },
     "execution_count": 27,
     "metadata": {},
     "output_type": "execute_result"
    }
   ],
   "source": [
    "X = pd.concat([X_train, X_val, X_test])\n",
    "prod_pipe = create_preprocessing_pipe(X)\n",
    "\n",
    "path = models_dir / f'{artefact_prefix}_pipe'\n",
    "dump(prod_pipe, path.with_suffix('.sav'))"
   ],
   "metadata": {
    "collapsed": false,
    "pycharm": {
     "name": "#%%\n"
    }
   }
  },
  {
   "cell_type": "markdown",
   "source": [
    "## Save `LabelEncoder`\n",
    "\n",
    "This is required to get back the name of the name of the `beer_style`."
   ],
   "metadata": {
    "collapsed": false
   }
  },
  {
   "cell_type": "code",
   "execution_count": 28,
   "outputs": [
    {
     "data": {
      "text/plain": "['D:\\\\git\\\\assignment_2\\\\models\\\\5_pytorch_label_encoder.sav']"
     },
     "execution_count": 28,
     "metadata": {},
     "output_type": "execute_result"
    }
   ],
   "source": [
    "path = models_dir / f'{artefact_prefix}_label_encoder'\n",
    "dump(le, path.with_suffix('.sav'))\n"
   ],
   "metadata": {
    "collapsed": false,
    "pycharm": {
     "name": "#%%\n"
    }
   }
  },
  {
   "cell_type": "code",
   "execution_count": null,
   "outputs": [],
   "source": [],
   "metadata": {
    "collapsed": false,
    "pycharm": {
     "name": "#%%\n"
    }
   }
  }
 ],
 "metadata": {
  "kernelspec": {
   "name": "adsi_ass_2",
   "language": "python",
   "display_name": "adsi_ass_2"
  },
  "language_info": {
   "codemirror_mode": {
    "name": "ipython",
    "version": 3
   },
   "file_extension": ".py",
   "mimetype": "text/x-python",
   "name": "python",
   "nbconvert_exporter": "python",
   "pygments_lexer": "ipython3",
   "version": "3.7.7"
  }
 },
 "nbformat": 4,
 "nbformat_minor": 4
}