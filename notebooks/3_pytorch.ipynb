{
 "cells": [
  {
   "cell_type": "markdown",
   "source": [
    "# Introduction\n",
    "\n",
    "This notebook predicts the `beer_style` using a neural network on the PyTorch\n",
    "framework. It is a modification of the 2_pytorch.ipynb notebook. The low\n",
    "frequency `brewery_name`s will be merged into a new category called 'other'.\n",
    "\n",
    "## Summary\n",
    "Reducing the number of unique `brewery_names` did not lead to a model with\n",
    "better performance. The [classification report](#Classification-report) shows\n",
    "that the test accuracy is 0.27. A decrease from the previous attempt (0.3).\n",
    "\n"
   ],
   "metadata": {
    "collapsed": false
   }
  },
  {
   "cell_type": "code",
   "execution_count": null,
   "outputs": [],
   "source": [
    "artefact_prefix = '3_pytorch'\n",
    "target = 'beer_style'"
   ],
   "metadata": {
    "collapsed": false,
    "pycharm": {
     "name": "#%%\n"
    }
   }
  },
  {
   "cell_type": "code",
   "execution_count": null,
   "outputs": [],
   "source": [
    "%load_ext autoreload\n",
    "%autoreload 2"
   ],
   "metadata": {
    "collapsed": false,
    "pycharm": {
     "name": "#%%\n"
    }
   }
  },
  {
   "cell_type": "code",
   "execution_count": 48,
   "outputs": [],
   "source": [
    "from dotenv import find_dotenv\n",
    "from datetime import datetime\n",
    "import pandas as pd\n",
    "from pathlib import Path\n",
    "import numpy as np\n",
    "import torch\n",
    "import torch.nn as nn\n",
    "import torch.nn.functional as F\n",
    "from torchviz import make_dot\n",
    "from torch.utils.data import Dataset, DataLoader\n",
    "from category_encoders.binary import BinaryEncoder\n",
    "from sklearn.metrics import confusion_matrix\n",
    "from sklearn.metrics import classification_report\n",
    "from sklearn.pipeline import Pipeline\n",
    "from sklearn.preprocessing import StandardScaler, LabelEncoder, OneHotEncoder\n",
    "from joblib import dump, load\n",
    "\n",
    "from src.data.sets import merge_categories\n",
    "from src.data.sets import save_sets\n",
    "from src.data.sets import load_sets\n",
    "from src.data.sets import split_sets_random\n",
    "from src.data.sets import test_class_exclusion\n",
    "from src.models.performance import convert_cr_to_dataframe\n",
    "from src.models.pytorch import PytorchClassification\n",
    "from src.models.pytorch import get_device\n",
    "from src.models.pytorch import train_classification\n",
    "from src.models.pytorch import test_classification\n",
    "from src.models.pytorch import PytorchDataset\n",
    "from src.models.pipes import create_preprocessing_pipe\n",
    "from src.visualization.visualize import plot_confusion_matrix"
   ],
   "metadata": {
    "collapsed": false,
    "pycharm": {
     "name": "#%%\n"
    }
   }
  },
  {
   "cell_type": "markdown",
   "source": [
    "# Set up directories"
   ],
   "metadata": {
    "collapsed": false
   }
  },
  {
   "cell_type": "code",
   "execution_count": null,
   "outputs": [],
   "source": [
    "project_dir = Path(find_dotenv()).parent\n",
    "data_dir = project_dir / 'data'\n",
    "raw_data_dir = data_dir / 'raw'\n",
    "interim_data_dir = data_dir / 'interim'\n",
    "processed_data_dir = data_dir / 'processed'\n",
    "reports_dir = project_dir / 'reports'\n",
    "models_dir = project_dir / 'models'"
   ],
   "metadata": {
    "collapsed": false,
    "pycharm": {
     "name": "#%% Set directory\n"
    }
   }
  },
  {
   "cell_type": "markdown",
   "source": [
    "# Load raw data"
   ],
   "metadata": {
    "collapsed": false
   }
  },
  {
   "cell_type": "code",
   "execution_count": null,
   "outputs": [],
   "source": [
    "df = pd.read_parquet(processed_data_dir / 'subset.parquet')\n",
    "df"
   ],
   "metadata": {
    "collapsed": false,
    "pycharm": {
     "name": "#%% Load data\n"
    }
   }
  },
  {
   "cell_type": "markdown",
   "source": [
    "# Merge categories"
   ],
   "metadata": {
    "collapsed": false
   }
  },
  {
   "cell_type": "code",
   "execution_count": null,
   "outputs": [],
   "source": [
    "s = merge_categories(df.brewery_name, threshold = 500)\n",
    "s.value_counts()"
   ],
   "metadata": {
    "collapsed": false,
    "pycharm": {
     "name": "#%%\n"
    }
   }
  },
  {
   "cell_type": "code",
   "execution_count": null,
   "outputs": [],
   "source": [
    "df.loc[:, 'brewery_name'] = s"
   ],
   "metadata": {
    "collapsed": false,
    "pycharm": {
     "name": "#%%\n"
    }
   }
  },
  {
   "cell_type": "code",
   "execution_count": null,
   "outputs": [],
   "source": [
    "df.brewery_name.value_counts(normalize=True)"
   ],
   "metadata": {
    "collapsed": false,
    "pycharm": {
     "name": "#%%\n"
    }
   }
  },
  {
   "cell_type": "markdown",
   "source": [
    "# Split data"
   ],
   "metadata": {
    "collapsed": false
   }
  },
  {
   "cell_type": "code",
   "execution_count": null,
   "outputs": [],
   "source": [
    "X_train, y_train, X_val, y_val, X_test, y_test = split_sets_random(\n",
    "    df, target_col=target, test_ratio=0.2, to_numpy=False\n",
    ")"
   ],
   "metadata": {
    "collapsed": false,
    "pycharm": {
     "name": "#%%\n"
    }
   }
  },
  {
   "cell_type": "code",
   "execution_count": null,
   "outputs": [],
   "source": [
    "y_val.value_counts(normalize=True)"
   ],
   "metadata": {
    "collapsed": false,
    "pycharm": {
     "name": "#%%\n"
    }
   }
  },
  {
   "cell_type": "code",
   "execution_count": null,
   "outputs": [],
   "source": [
    "y_test.value_counts(normalize=True)"
   ],
   "metadata": {
    "collapsed": false,
    "pycharm": {
     "name": "#%%\n"
    }
   }
  },
  {
   "cell_type": "code",
   "execution_count": null,
   "outputs": [],
   "source": [
    "X_train"
   ],
   "metadata": {
    "collapsed": false,
    "pycharm": {
     "name": "#%%\n"
    }
   }
  },
  {
   "cell_type": "markdown",
   "source": [
    "Check for excluded classes."
   ],
   "metadata": {
    "collapsed": false
   }
  },
  {
   "cell_type": "code",
   "execution_count": null,
   "outputs": [],
   "source": [
    "test_class_exclusion(y_train, y_test, y_val)"
   ],
   "metadata": {
    "collapsed": false,
    "pycharm": {
     "name": "#%%\n"
    }
   }
  },
  {
   "cell_type": "markdown",
   "source": [
    "# Preprocess data\n",
    "\n",
    "1. The `brewery_name` is a feature with a very high cardinality, ~5700. One hot encoding is not feasible as it will introduce 5700 very sparse columns. Another option is to use binary encoding, which would result in 14 new columns.\n",
    "1. Standard scaling is used to ensure that the binary columns ([0, 1])and the review columns ([1, 5]) are on the same scale."
   ],
   "metadata": {
    "collapsed": false
   }
  },
  {
   "cell_type": "code",
   "execution_count": null,
   "outputs": [],
   "source": [
    "pipe = Pipeline([\n",
    "    ('bin_encoder', BinaryEncoder(cols=['brewery_name'])),\n",
    "    ('scaler', StandardScaler())\n",
    "])"
   ],
   "metadata": {
    "collapsed": false,
    "pycharm": {
     "name": "#%%\n"
    }
   }
  },
  {
   "cell_type": "code",
   "execution_count": null,
   "outputs": [],
   "source": [
    "X_train_trans = pipe.fit_transform(X_train)\n",
    "X_val_trans = pipe.transform(X_val)\n",
    "X_test_trans = pipe.transform(X_test)"
   ],
   "metadata": {
    "collapsed": false,
    "pycharm": {
     "name": "#%%\n"
    }
   }
  },
  {
   "cell_type": "code",
   "execution_count": null,
   "outputs": [],
   "source": [
    "X_train_trans.shape"
   ],
   "metadata": {
    "collapsed": false,
    "pycharm": {
     "name": "#%%\n"
    }
   }
  },
  {
   "cell_type": "code",
   "execution_count": null,
   "outputs": [],
   "source": [
    "n_features = X_train_trans.shape[1]\n",
    "n_features"
   ],
   "metadata": {
    "collapsed": false,
    "pycharm": {
     "name": "#%%\n"
    }
   }
  },
  {
   "cell_type": "code",
   "execution_count": null,
   "outputs": [],
   "source": [
    "n_classes = y_train.nunique()\n",
    "n_classes"
   ],
   "metadata": {
    "collapsed": false,
    "pycharm": {
     "name": "#%%\n"
    }
   }
  },
  {
   "cell_type": "markdown",
   "source": [
    "## Encoding\n",
    "\n",
    "PyTorch accepts only numerical labels."
   ],
   "metadata": {
    "collapsed": false
   }
  },
  {
   "cell_type": "code",
   "execution_count": null,
   "outputs": [],
   "source": [
    "le = LabelEncoder()\n",
    "y_train_trans = le.fit_transform(y_train.to_frame())\n",
    "y_val_trans = le.fit_transform(y_val.to_frame())\n",
    "y_test_trans = le.transform(y_test.to_frame())"
   ],
   "metadata": {
    "collapsed": false,
    "pycharm": {
     "name": "#%%\n"
    }
   }
  },
  {
   "cell_type": "code",
   "execution_count": null,
   "outputs": [],
   "source": [
    "y_test_trans"
   ],
   "metadata": {
    "collapsed": false,
    "pycharm": {
     "name": "#%%\n"
    }
   }
  },
  {
   "cell_type": "markdown",
   "source": [
    "## Convert to Pytorch tensors"
   ],
   "metadata": {
    "collapsed": false
   }
  },
  {
   "cell_type": "code",
   "execution_count": null,
   "outputs": [],
   "source": [
    "device = get_device()\n",
    "device"
   ],
   "metadata": {
    "collapsed": false,
    "pycharm": {
     "name": "#%%\n"
    }
   }
  },
  {
   "cell_type": "code",
   "execution_count": null,
   "outputs": [],
   "source": [
    "train_dataset = PytorchDataset(X=X_train_trans, y=y_train_trans)\n",
    "val_dataset = PytorchDataset(X=X_val_trans, y=y_val_trans)\n",
    "test_dataset = PytorchDataset(X=X_test_trans, y=y_test_trans)"
   ],
   "metadata": {
    "collapsed": false,
    "pycharm": {
     "name": "#%%\n"
    }
   }
  },
  {
   "cell_type": "markdown",
   "source": [
    "# Classification model"
   ],
   "metadata": {
    "collapsed": false
   }
  },
  {
   "cell_type": "code",
   "execution_count": null,
   "outputs": [],
   "source": [
    "model = PytorchClassification(n_features=n_features, n_classes=n_classes)"
   ],
   "metadata": {
    "collapsed": false,
    "pycharm": {
     "name": "#%%\n"
    }
   }
  },
  {
   "cell_type": "code",
   "execution_count": null,
   "outputs": [],
   "source": [
    "model.to(device)"
   ],
   "metadata": {
    "collapsed": false,
    "pycharm": {
     "name": "#%%\n"
    }
   }
  },
  {
   "cell_type": "code",
   "execution_count": null,
   "outputs": [],
   "source": [
    "criterion = nn.CrossEntropyLoss()"
   ],
   "metadata": {
    "collapsed": false,
    "pycharm": {
     "name": "#%%\n"
    }
   }
  },
  {
   "cell_type": "code",
   "execution_count": null,
   "outputs": [],
   "source": [
    "optimizer = torch.optim.Adam(model.parameters(), lr=0.001)"
   ],
   "metadata": {
    "collapsed": false,
    "pycharm": {
     "name": "#%%\n"
    }
   }
  },
  {
   "cell_type": "markdown",
   "source": [
    "# Train the model"
   ],
   "metadata": {
    "collapsed": false
   }
  },
  {
   "cell_type": "code",
   "execution_count": null,
   "outputs": [],
   "source": [
    "N_EPOCHS = 20\n",
    "BATCH_SIZE = 512\n",
    "scheduler = torch.optim.lr_scheduler.StepLR(optimizer, 1, gamma=0.9)"
   ],
   "metadata": {
    "collapsed": false,
    "pycharm": {
     "name": "#%%\n"
    }
   }
  },
  {
   "cell_type": "code",
   "execution_count": 47,
   "outputs": [
    {
     "name": "stdout",
     "output_type": "stream",
     "text": [
      "Started: 2021-03-12 20:35:51.281585\n",
      "Epoch: 0\n",
      "\t(train)\tLoss: 0.0054\t|\tAcc: 24.9%\n",
      "\t(valid)\tLoss: 0.0051\t|\tAcc: 26.8%\n",
      "Epoch: 1\n",
      "\t(train)\tLoss: 0.0054\t|\tAcc: 24.8%\n",
      "\t(valid)\tLoss: 0.0051\t|\tAcc: 26.8%\n",
      "Epoch: 2\n",
      "\t(train)\tLoss: 0.0054\t|\tAcc: 24.9%\n",
      "\t(valid)\tLoss: 0.0051\t|\tAcc: 26.9%\n",
      "Epoch: 3\n",
      "\t(train)\tLoss: 0.0054\t|\tAcc: 24.9%\n",
      "\t(valid)\tLoss: 0.0051\t|\tAcc: 26.9%\n",
      "Epoch: 4\n",
      "\t(train)\tLoss: 0.0054\t|\tAcc: 24.9%\n",
      "\t(valid)\tLoss: 0.0051\t|\tAcc: 26.9%\n",
      "Epoch: 5\n",
      "\t(train)\tLoss: 0.0054\t|\tAcc: 24.9%\n",
      "\t(valid)\tLoss: 0.0051\t|\tAcc: 26.9%\n",
      "Epoch: 6\n",
      "\t(train)\tLoss: 0.0054\t|\tAcc: 24.8%\n",
      "\t(valid)\tLoss: 0.0051\t|\tAcc: 26.9%\n",
      "Epoch: 7\n",
      "\t(train)\tLoss: 0.0054\t|\tAcc: 25.0%\n",
      "\t(valid)\tLoss: 0.0051\t|\tAcc: 26.9%\n",
      "Epoch: 8\n",
      "\t(train)\tLoss: 0.0054\t|\tAcc: 25.0%\n",
      "\t(valid)\tLoss: 0.0051\t|\tAcc: 26.9%\n",
      "Epoch: 9\n",
      "\t(train)\tLoss: 0.0054\t|\tAcc: 25.0%\n",
      "\t(valid)\tLoss: 0.0051\t|\tAcc: 27.0%\n",
      "Epoch: 10\n",
      "\t(train)\tLoss: 0.0054\t|\tAcc: 25.0%\n",
      "\t(valid)\tLoss: 0.0051\t|\tAcc: 27.0%\n",
      "Epoch: 11\n",
      "\t(train)\tLoss: 0.0054\t|\tAcc: 25.0%\n",
      "\t(valid)\tLoss: 0.0051\t|\tAcc: 27.0%\n",
      "Epoch: 12\n",
      "\t(train)\tLoss: 0.0054\t|\tAcc: 25.0%\n",
      "\t(valid)\tLoss: 0.0051\t|\tAcc: 27.0%\n",
      "Epoch: 13\n",
      "\t(train)\tLoss: 0.0054\t|\tAcc: 25.0%\n",
      "\t(valid)\tLoss: 0.0051\t|\tAcc: 27.0%\n",
      "Epoch: 14\n",
      "\t(train)\tLoss: 0.0054\t|\tAcc: 25.0%\n",
      "\t(valid)\tLoss: 0.0051\t|\tAcc: 27.0%\n",
      "Epoch: 15\n",
      "\t(train)\tLoss: 0.0054\t|\tAcc: 25.0%\n",
      "\t(valid)\tLoss: 0.0051\t|\tAcc: 27.0%\n",
      "Epoch: 16\n",
      "\t(train)\tLoss: 0.0054\t|\tAcc: 25.0%\n",
      "\t(valid)\tLoss: 0.0051\t|\tAcc: 27.0%\n",
      "Epoch: 17\n",
      "\t(train)\tLoss: 0.0054\t|\tAcc: 25.0%\n",
      "\t(valid)\tLoss: 0.0051\t|\tAcc: 27.0%\n",
      "Epoch: 18\n",
      "\t(train)\tLoss: 0.0054\t|\tAcc: 25.1%\n",
      "\t(valid)\tLoss: 0.0051\t|\tAcc: 26.9%\n",
      "Epoch: 19\n",
      "\t(train)\tLoss: 0.0054\t|\tAcc: 25.0%\n",
      "\t(valid)\tLoss: 0.0051\t|\tAcc: 26.9%\n",
      "Ended: 2021-03-12 20:42:20.673028\n",
      "Runtime: 0:06:29.391443\n"
     ]
    }
   ],
   "source": [
    "start_time = datetime.now()\n",
    "print(f'Started: {start_time}')\n",
    "for epoch in range(N_EPOCHS):\n",
    "    train_loss, train_acc = train_classification(train_dataset,\n",
    "                                                 model=model,\n",
    "                                                 criterion=criterion, \n",
    "                                                 optimizer=optimizer,\n",
    "                                                 batch_size=BATCH_SIZE,\n",
    "                                                 device=device,\n",
    "                                                 scheduler=scheduler)\n",
    "    valid_loss, valid_acc = test_classification(val_dataset,\n",
    "                                                model=model,\n",
    "                                                criterion=criterion, \n",
    "                                                batch_size=BATCH_SIZE, \n",
    "                                                device=device)\n",
    "\n",
    "    print(f'Epoch: {epoch}')\n",
    "    print(f'\\t(train)\\tLoss: {train_loss:.4f}\\t|\\tAcc: {train_acc * 100:.1f}%')\n",
    "    print(f'\\t(valid)\\tLoss: {valid_loss:.4f}\\t|\\tAcc: {valid_acc * 100:.1f}%')\n",
    "\n",
    "end_time = datetime.now()\n",
    "runtime = end_time - start_time\n",
    "print(f'Ended: {end_time}')\n",
    "print(f'Runtime: {runtime}')"
   ],
   "metadata": {
    "collapsed": false,
    "pycharm": {
     "name": "#%%\n"
    }
   }
  },
  {
   "cell_type": "markdown",
   "source": [
    "# Prediction"
   ],
   "metadata": {
    "collapsed": false
   }
  },
  {
   "cell_type": "code",
   "execution_count": 45,
   "outputs": [
    {
     "data": {
      "text/plain": "tensor([25, 18,  9,  ..., 65, 47, 25], device='cuda:0')"
     },
     "execution_count": 45,
     "metadata": {},
     "output_type": "execute_result"
    }
   ],
   "source": [
    "preds = model(test_dataset.X_tensor.to(device)).argmax(1)\n",
    "preds"
   ],
   "metadata": {
    "collapsed": false,
    "pycharm": {
     "name": "#%%\n"
    }
   }
  },
  {
   "cell_type": "markdown",
   "source": [
    "# Evaluation"
   ],
   "metadata": {
    "collapsed": false
   }
  },
  {
   "cell_type": "markdown",
   "source": [
    "## Classification report"
   ],
   "metadata": {
    "collapsed": false
   }
  },
  {
   "cell_type": "code",
   "execution_count": 46,
   "outputs": [
    {
     "name": "stderr",
     "output_type": "stream",
     "text": [
      "C:\\Users\\Roger\\.conda\\envs\\adsi_ass_2\\lib\\site-packages\\sklearn\\metrics\\_classification.py:1272: UndefinedMetricWarning: Precision and F-score are ill-defined and being set to 0.0 in labels with no predicted samples. Use `zero_division` parameter to control this behavior.\n",
      "  _warn_prf(average, modifier, msg_start, len(result))\n"
     ]
    },
    {
     "name": "stdout",
     "output_type": "stream",
     "text": [
      "                                     precision    recall  f1-score   support\n",
      "\n",
      "                            Altbier       0.33      0.33      0.33      1521\n",
      "             American Adjunct Lager       0.27      0.75      0.40      6085\n",
      "           American Amber / Red Ale       0.19      0.20      0.19      9288\n",
      "         American Amber / Red Lager       0.30      0.30      0.30      1887\n",
      "                American Barleywine       0.23      0.02      0.04      5390\n",
      "                 American Black Ale       0.41      0.05      0.08      2394\n",
      "                American Blonde Ale       0.20      0.01      0.02      2594\n",
      "                 American Brown Ale       0.25      0.07      0.11      5066\n",
      "            American Dark Wheat Ale       0.00      0.00      0.00       296\n",
      "     American Double / Imperial IPA       0.27      0.32      0.29     17159\n",
      " American Double / Imperial Pilsner       0.16      0.01      0.01      1109\n",
      "   American Double / Imperial Stout       0.34      0.47      0.40     10187\n",
      "                       American IPA       0.15      0.55      0.23     23356\n",
      "               American Malt Liquor       0.72      0.02      0.03       759\n",
      "            American Pale Ale (APA)       0.18      0.14      0.16     12479\n",
      "                American Pale Lager       0.47      0.17      0.25      1871\n",
      "            American Pale Wheat Ale       0.20      0.13      0.16      4900\n",
      "                    American Porter       0.24      0.19      0.21     10097\n",
      "                     American Stout       0.21      0.27      0.23      4966\n",
      "                American Strong Ale       0.24      0.41      0.30      6335\n",
      "                  American Wild Ale       0.31      0.35      0.33      3494\n",
      "                      Baltic Porter       0.38      0.33      0.35      2322\n",
      "                   Belgian Dark Ale       0.11      0.02      0.03      1278\n",
      "                        Belgian IPA       0.38      0.17      0.24      2428\n",
      "                   Belgian Pale Ale       0.42      0.22      0.29      3954\n",
      "            Belgian Strong Dark Ale       0.42      0.33      0.37      7511\n",
      "            Belgian Strong Pale Ale       0.43      0.23      0.30      6181\n",
      "                 Berliner Weissbier       0.56      0.12      0.20       712\n",
      "    Bière de Champagne / Bière Brut       0.29      0.02      0.04       211\n",
      "                     Bière de Garde       0.49      0.26      0.34      1340\n",
      "                        Black & Tan       0.12      0.00      0.01       459\n",
      "                               Bock       0.12      0.31      0.17      2323\n",
      "                            Braggot       0.22      0.04      0.07       207\n",
      "     California Common / Steam Beer       0.21      0.25      0.23       809\n",
      "                         Chile Beer       0.10      0.00      0.01       496\n",
      "                          Cream Ale       0.22      0.11      0.15      1052\n",
      "                     Czech Pilsener       0.69      0.18      0.29      2484\n",
      "                         Doppelbock       0.45      0.28      0.34      4380\n",
      "          Dortmunder / Export Lager       0.16      0.02      0.03       928\n",
      "                             Dubbel       0.34      0.13      0.19      4036\n",
      "                       Dunkelweizen       0.15      0.00      0.01      1426\n",
      "                            Eisbock       0.27      0.22      0.24       506\n",
      "                 English Barleywine       0.65      0.15      0.24      2798\n",
      "                     English Bitter       0.13      0.06      0.08      1783\n",
      "                  English Brown Ale       0.41      0.22      0.29      3870\n",
      "              English Dark Mild Ale       0.25      0.00      0.00       482\n",
      "       English India Pale Ale (IPA)       0.18      0.07      0.11      3218\n",
      "                   English Pale Ale       0.39      0.38      0.38      4631\n",
      "              English Pale Mild Ale       0.00      0.00      0.00       135\n",
      "                     English Porter       0.29      0.16      0.20      2225\n",
      "                      English Stout       0.40      0.01      0.03       605\n",
      "                 English Strong Ale       0.25      0.12      0.16       982\n",
      "                    Euro Dark Lager       0.38      0.06      0.10       916\n",
      "                    Euro Pale Lager       0.54      0.36      0.43      3673\n",
      "                  Euro Strong Lager       0.57      0.02      0.04       542\n",
      "Extra Special / Strong Bitter (ESB)       0.24      0.05      0.08      3539\n",
      "                               Faro       0.00      0.00      0.00       117\n",
      "                 Flanders Oud Bruin       0.40      0.19      0.26       944\n",
      "                   Flanders Red Ale       0.71      0.56      0.63      1332\n",
      "             Foreign / Export Stout       0.57      0.20      0.30      1185\n",
      "             Fruit / Vegetable Beer       0.25      0.36      0.29      6710\n",
      "                    German Pilsener       0.42      0.10      0.16      4416\n",
      "                               Gose       0.59      0.60      0.59       119\n",
      "                             Gueuze       0.63      0.35      0.45      1206\n",
      "                           Happoshu       0.00      0.00      0.00        46\n",
      "                         Hefeweizen       0.37      0.25      0.30      5675\n",
      "               Herbed / Spiced Beer       0.15      0.02      0.03      2081\n",
      "                    Irish Dry Stout       0.61      0.50      0.55      2537\n",
      "                      Irish Red Ale       0.84      0.08      0.15      1572\n",
      "                Japanese Rice Lager       0.65      0.79      0.71       308\n",
      "         Keller Bier / Zwickel Bier       0.23      0.06      0.09       525\n",
      "                      Kristalweizen       0.25      0.00      0.01       426\n",
      "                              Kvass       1.00      0.02      0.03        63\n",
      "                             Kölsch       0.42      0.12      0.18      1678\n",
      "                     Lambic - Fruit       0.54      0.65      0.59      2152\n",
      "                 Lambic - Unblended       0.00      0.00      0.00       227\n",
      "                        Light Lager       0.53      0.46      0.49      2759\n",
      "                   Low Alcohol Beer       0.00      0.00      0.00       222\n",
      "              Maibock / Helles Bock       0.18      0.09      0.12      2087\n",
      "                 Milk / Sweet Stout       0.30      0.47      0.37      2623\n",
      "                Munich Dunkel Lager       0.38      0.18      0.25      1566\n",
      "                Munich Helles Lager       0.38      0.13      0.19      1600\n",
      "               Märzen / Oktoberfest       0.30      0.11      0.16      4777\n",
      "                      Oatmeal Stout       0.26      0.18      0.21      3646\n",
      "                            Old Ale       0.47      0.25      0.32      2927\n",
      "                        Pumpkin Ale       0.38      0.12      0.18      3122\n",
      "                   Quadrupel (Quad)       0.45      0.41      0.43      3737\n",
      "                          Rauchbier       0.76      0.45      0.57       817\n",
      "                         Roggenbier       0.00      0.00      0.00       101\n",
      "             Russian Imperial Stout       0.31      0.40      0.35     10792\n",
      "                           Rye Beer       0.29      0.14      0.19      2054\n",
      "                              Sahti       0.00      0.00      0.00       198\n",
      "             Saison / Farmhouse Ale       0.36      0.40      0.38      6327\n",
      "                        Schwarzbier       0.43      0.20      0.28      1956\n",
      "             Scotch Ale / Wee Heavy       0.38      0.16      0.23      3460\n",
      "                       Scottish Ale       0.41      0.22      0.28      1827\n",
      "Scottish Gruit / Ancient Herbed Ale       0.87      0.77      0.82       557\n",
      "                        Smoked Beer       0.00      0.00      0.00       556\n",
      "                             Tripel       0.32      0.18      0.23      6074\n",
      "                       Vienna Lager       0.16      0.04      0.06      1865\n",
      "                         Weizenbock       0.57      0.28      0.38      1922\n",
      "                          Wheatwine       0.00      0.00      0.00       731\n",
      "                      Winter Warmer       0.34      0.12      0.18      4130\n",
      "                            Witbier       0.40      0.16      0.23      5896\n",
      "\n",
      "                           accuracy                           0.27    317323\n",
      "                          macro avg       0.33      0.20      0.21    317323\n",
      "                       weighted avg       0.32      0.27      0.25    317323\n",
      "\n"
     ]
    }
   ],
   "source": [
    "report = classification_report(y_test, le.inverse_transform(preds.cpu()))\n",
    "print(report)"
   ],
   "metadata": {
    "collapsed": false,
    "pycharm": {
     "name": "#%%\n"
    }
   }
  },
  {
   "cell_type": "markdown",
   "source": [
    "# Save objects for production"
   ],
   "metadata": {
    "collapsed": false
   }
  },
  {
   "cell_type": "markdown",
   "source": [
    "## Save model"
   ],
   "metadata": {
    "collapsed": false
   }
  },
  {
   "cell_type": "code",
   "execution_count": 54,
   "outputs": [],
   "source": [
    "path = models_dir / f'{artefact_prefix}_model'\n",
    "torch.save(model, path.with_suffix('.torch'))"
   ],
   "metadata": {
    "collapsed": false,
    "pycharm": {
     "name": "#%%\n"
    }
   }
  },
  {
   "cell_type": "markdown",
   "source": [
    "## Create pipe object\n",
    "\n",
    "This is for transforming the input prior to prediction."
   ],
   "metadata": {
    "collapsed": false
   }
  },
  {
   "cell_type": "code",
   "execution_count": 55,
   "outputs": [
    {
     "data": {
      "text/plain": "['D:\\\\git\\\\assignment_2\\\\models\\\\3_pytorch_pipe.sav']"
     },
     "execution_count": 55,
     "metadata": {},
     "output_type": "execute_result"
    }
   ],
   "source": [
    "X = pd.concat([X_train, X_val, X_test])\n",
    "prod_pipe = create_preprocessing_pipe(X)\n",
    "\n",
    "path = models_dir / f'{artefact_prefix}_pipe'\n",
    "dump(prod_pipe, path.with_suffix('.sav'))"
   ],
   "metadata": {
    "collapsed": false,
    "pycharm": {
     "name": "#%%\n"
    }
   }
  },
  {
   "cell_type": "markdown",
   "source": [
    "## Save `LabelEncoder`\n",
    "\n",
    "This is required to get back the name of the name of the `beer_style`."
   ],
   "metadata": {
    "collapsed": false
   }
  },
  {
   "cell_type": "code",
   "execution_count": 56,
   "outputs": [
    {
     "data": {
      "text/plain": "['D:\\\\git\\\\assignment_2\\\\models\\\\3_pytorch_label_encoder.sav']"
     },
     "execution_count": 56,
     "metadata": {},
     "output_type": "execute_result"
    }
   ],
   "source": [
    "path = models_dir / f'{artefact_prefix}_label_encoder'\n",
    "dump(le, path.with_suffix('.sav'))"
   ],
   "metadata": {
    "collapsed": false,
    "pycharm": {
     "name": "#%%\n"
    }
   }
  }
 ],
 "metadata": {
  "kernelspec": {
   "name": "adsi_ass_2",
   "language": "python",
   "display_name": "adsi_ass_2"
  },
  "language_info": {
   "codemirror_mode": {
    "name": "ipython",
    "version": 3
   },
   "file_extension": ".py",
   "mimetype": "text/x-python",
   "name": "python",
   "nbconvert_exporter": "python",
   "pygments_lexer": "ipython3",
   "version": "3.7.7"
  }
 },
 "nbformat": 4,
 "nbformat_minor": 4
}