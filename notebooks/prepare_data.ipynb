{
 "cells": [
  {
   "cell_type": "code",
   "execution_count": 1,
   "outputs": [],
   "source": [
    "%load_ext autoreload\n",
    "%autoreload 2"
   ],
   "metadata": {
    "collapsed": false,
    "pycharm": {
     "name": "#%%\n"
    }
   }
  },
  {
   "cell_type": "code",
   "execution_count": 16,
   "metadata": {},
   "outputs": [],
   "source": [
    "import pandas as pd\n",
    "import numpy as np\n",
    "from pathlib import Path\n",
    "from dotenv import find_dotenv, load_dotenv\n",
    "from pandas_profiling import ProfileReport\n",
    "from sklearn.model_selection import train_test_split\n",
    "\n",
    "from src.data.sets import save_sets"
   ]
  },
  {
   "cell_type": "markdown",
   "metadata": {},
   "source": [
    "# Introduction"
   ]
  },
  {
   "cell_type": "code",
   "execution_count": 3,
   "metadata": {
    "pycharm": {
     "name": "#%%\n"
    }
   },
   "outputs": [],
   "source": [
    "project_dir = Path(find_dotenv()).parent\n",
    "data_dir = project_dir / 'data'\n",
    "raw_data_dir = data_dir / 'raw'\n",
    "interim_data_dir = data_dir / 'interim'\n",
    "processed_data_dir = data_dir / 'processed'\n",
    "report_dir = project_dir / 'reports'"
   ]
  },
  {
   "cell_type": "markdown",
   "source": [
    "## Load data\n"
   ],
   "metadata": {
    "collapsed": false,
    "pycharm": {
     "name": "#%% md\n"
    }
   }
  },
  {
   "cell_type": "code",
   "execution_count": 4,
   "outputs": [
    {
     "name": "stdout",
     "output_type": "stream",
     "text": [
      "<class 'pandas.core.frame.DataFrame'>\n",
      "RangeIndex: 1586614 entries, 0 to 1586613\n",
      "Data columns (total 13 columns):\n",
      " #   Column              Non-Null Count    Dtype  \n",
      "---  ------              --------------    -----  \n",
      " 0   brewery_id          1586614 non-null  int64  \n",
      " 1   brewery_name        1586599 non-null  object \n",
      " 2   review_time         1586614 non-null  int64  \n",
      " 3   review_overall      1586614 non-null  float64\n",
      " 4   review_aroma        1586614 non-null  float64\n",
      " 5   review_appearance   1586614 non-null  float64\n",
      " 6   review_profilename  1586266 non-null  object \n",
      " 7   beer_style          1586614 non-null  object \n",
      " 8   review_palate       1586614 non-null  float64\n",
      " 9   review_taste        1586614 non-null  float64\n",
      " 10  beer_name           1586614 non-null  object \n",
      " 11  beer_abv            1518829 non-null  float64\n",
      " 12  beer_beerid         1586614 non-null  int64  \n",
      "dtypes: float64(6), int64(3), object(4)\n",
      "memory usage: 157.4+ MB\n"
     ]
    }
   ],
   "source": [
    "path = raw_data_dir / 'beer_reviews.csv'\n",
    "df = pd.read_csv(path)\n",
    "df.info()"
   ],
   "metadata": {
    "collapsed": false,
    "pycharm": {
     "name": "#%%\n"
    }
   }
  },
  {
   "cell_type": "code",
   "execution_count": 5,
   "outputs": [
    {
     "data": {
      "text/plain": "         brewery_id                 brewery_name  review_time  review_overall  \\\n0             10325              Vecchio Birraio   1234817823             1.5   \n1             10325              Vecchio Birraio   1235915097             3.0   \n2             10325              Vecchio Birraio   1235916604             3.0   \n3             10325              Vecchio Birraio   1234725145             3.0   \n4              1075      Caldera Brewing Company   1293735206             4.0   \n...             ...                          ...          ...             ...   \n1586609       14359  The Defiant Brewing Company   1162684892             5.0   \n1586610       14359  The Defiant Brewing Company   1161048566             4.0   \n1586611       14359  The Defiant Brewing Company   1160702513             4.5   \n1586612       14359  The Defiant Brewing Company   1160023044             4.0   \n1586613       14359  The Defiant Brewing Company   1160005319             5.0   \n\n         review_aroma  review_appearance review_profilename  \\\n0                 2.0                2.5            stcules   \n1                 2.5                3.0            stcules   \n2                 2.5                3.0            stcules   \n3                 3.0                3.5            stcules   \n4                 4.5                4.0     johnmichaelsen   \n...               ...                ...                ...   \n1586609           4.0                3.5         maddogruss   \n1586610           5.0                2.5          yelterdow   \n1586611           3.5                3.0           TongoRad   \n1586612           4.5                4.5           dherling   \n1586613           4.5                4.5               cbl2   \n\n                             beer_style  review_palate  review_taste  \\\n0                            Hefeweizen            1.5           1.5   \n1                    English Strong Ale            3.0           3.0   \n2                Foreign / Export Stout            3.0           3.0   \n3                       German Pilsener            2.5           3.0   \n4        American Double / Imperial IPA            4.0           4.5   \n...                                 ...            ...           ...   \n1586609                     Pumpkin Ale            4.0           4.0   \n1586610                     Pumpkin Ale            2.0           4.0   \n1586611                     Pumpkin Ale            3.5           4.0   \n1586612                     Pumpkin Ale            4.5           4.5   \n1586613                     Pumpkin Ale            4.5           4.5   \n\n                      beer_name  beer_abv  beer_beerid  \n0                  Sausa Weizen       5.0        47986  \n1                      Red Moon       6.2        48213  \n2        Black Horse Black Beer       6.5        48215  \n3                    Sausa Pils       5.0        47969  \n4                 Cauldron DIPA       7.7        64883  \n...                         ...       ...          ...  \n1586609      The Horseman's Ale       5.2        33061  \n1586610      The Horseman's Ale       5.2        33061  \n1586611      The Horseman's Ale       5.2        33061  \n1586612      The Horseman's Ale       5.2        33061  \n1586613      The Horseman's Ale       5.2        33061  \n\n[1586614 rows x 13 columns]",
      "text/html": "<div>\n<style scoped>\n    .dataframe tbody tr th:only-of-type {\n        vertical-align: middle;\n    }\n\n    .dataframe tbody tr th {\n        vertical-align: top;\n    }\n\n    .dataframe thead th {\n        text-align: right;\n    }\n</style>\n<table border=\"1\" class=\"dataframe\">\n  <thead>\n    <tr style=\"text-align: right;\">\n      <th></th>\n      <th>brewery_id</th>\n      <th>brewery_name</th>\n      <th>review_time</th>\n      <th>review_overall</th>\n      <th>review_aroma</th>\n      <th>review_appearance</th>\n      <th>review_profilename</th>\n      <th>beer_style</th>\n      <th>review_palate</th>\n      <th>review_taste</th>\n      <th>beer_name</th>\n      <th>beer_abv</th>\n      <th>beer_beerid</th>\n    </tr>\n  </thead>\n  <tbody>\n    <tr>\n      <th>0</th>\n      <td>10325</td>\n      <td>Vecchio Birraio</td>\n      <td>1234817823</td>\n      <td>1.5</td>\n      <td>2.0</td>\n      <td>2.5</td>\n      <td>stcules</td>\n      <td>Hefeweizen</td>\n      <td>1.5</td>\n      <td>1.5</td>\n      <td>Sausa Weizen</td>\n      <td>5.0</td>\n      <td>47986</td>\n    </tr>\n    <tr>\n      <th>1</th>\n      <td>10325</td>\n      <td>Vecchio Birraio</td>\n      <td>1235915097</td>\n      <td>3.0</td>\n      <td>2.5</td>\n      <td>3.0</td>\n      <td>stcules</td>\n      <td>English Strong Ale</td>\n      <td>3.0</td>\n      <td>3.0</td>\n      <td>Red Moon</td>\n      <td>6.2</td>\n      <td>48213</td>\n    </tr>\n    <tr>\n      <th>2</th>\n      <td>10325</td>\n      <td>Vecchio Birraio</td>\n      <td>1235916604</td>\n      <td>3.0</td>\n      <td>2.5</td>\n      <td>3.0</td>\n      <td>stcules</td>\n      <td>Foreign / Export Stout</td>\n      <td>3.0</td>\n      <td>3.0</td>\n      <td>Black Horse Black Beer</td>\n      <td>6.5</td>\n      <td>48215</td>\n    </tr>\n    <tr>\n      <th>3</th>\n      <td>10325</td>\n      <td>Vecchio Birraio</td>\n      <td>1234725145</td>\n      <td>3.0</td>\n      <td>3.0</td>\n      <td>3.5</td>\n      <td>stcules</td>\n      <td>German Pilsener</td>\n      <td>2.5</td>\n      <td>3.0</td>\n      <td>Sausa Pils</td>\n      <td>5.0</td>\n      <td>47969</td>\n    </tr>\n    <tr>\n      <th>4</th>\n      <td>1075</td>\n      <td>Caldera Brewing Company</td>\n      <td>1293735206</td>\n      <td>4.0</td>\n      <td>4.5</td>\n      <td>4.0</td>\n      <td>johnmichaelsen</td>\n      <td>American Double / Imperial IPA</td>\n      <td>4.0</td>\n      <td>4.5</td>\n      <td>Cauldron DIPA</td>\n      <td>7.7</td>\n      <td>64883</td>\n    </tr>\n    <tr>\n      <th>...</th>\n      <td>...</td>\n      <td>...</td>\n      <td>...</td>\n      <td>...</td>\n      <td>...</td>\n      <td>...</td>\n      <td>...</td>\n      <td>...</td>\n      <td>...</td>\n      <td>...</td>\n      <td>...</td>\n      <td>...</td>\n      <td>...</td>\n    </tr>\n    <tr>\n      <th>1586609</th>\n      <td>14359</td>\n      <td>The Defiant Brewing Company</td>\n      <td>1162684892</td>\n      <td>5.0</td>\n      <td>4.0</td>\n      <td>3.5</td>\n      <td>maddogruss</td>\n      <td>Pumpkin Ale</td>\n      <td>4.0</td>\n      <td>4.0</td>\n      <td>The Horseman's Ale</td>\n      <td>5.2</td>\n      <td>33061</td>\n    </tr>\n    <tr>\n      <th>1586610</th>\n      <td>14359</td>\n      <td>The Defiant Brewing Company</td>\n      <td>1161048566</td>\n      <td>4.0</td>\n      <td>5.0</td>\n      <td>2.5</td>\n      <td>yelterdow</td>\n      <td>Pumpkin Ale</td>\n      <td>2.0</td>\n      <td>4.0</td>\n      <td>The Horseman's Ale</td>\n      <td>5.2</td>\n      <td>33061</td>\n    </tr>\n    <tr>\n      <th>1586611</th>\n      <td>14359</td>\n      <td>The Defiant Brewing Company</td>\n      <td>1160702513</td>\n      <td>4.5</td>\n      <td>3.5</td>\n      <td>3.0</td>\n      <td>TongoRad</td>\n      <td>Pumpkin Ale</td>\n      <td>3.5</td>\n      <td>4.0</td>\n      <td>The Horseman's Ale</td>\n      <td>5.2</td>\n      <td>33061</td>\n    </tr>\n    <tr>\n      <th>1586612</th>\n      <td>14359</td>\n      <td>The Defiant Brewing Company</td>\n      <td>1160023044</td>\n      <td>4.0</td>\n      <td>4.5</td>\n      <td>4.5</td>\n      <td>dherling</td>\n      <td>Pumpkin Ale</td>\n      <td>4.5</td>\n      <td>4.5</td>\n      <td>The Horseman's Ale</td>\n      <td>5.2</td>\n      <td>33061</td>\n    </tr>\n    <tr>\n      <th>1586613</th>\n      <td>14359</td>\n      <td>The Defiant Brewing Company</td>\n      <td>1160005319</td>\n      <td>5.0</td>\n      <td>4.5</td>\n      <td>4.5</td>\n      <td>cbl2</td>\n      <td>Pumpkin Ale</td>\n      <td>4.5</td>\n      <td>4.5</td>\n      <td>The Horseman's Ale</td>\n      <td>5.2</td>\n      <td>33061</td>\n    </tr>\n  </tbody>\n</table>\n<p>1586614 rows × 13 columns</p>\n</div>"
     },
     "execution_count": 5,
     "metadata": {},
     "output_type": "execute_result"
    }
   ],
   "source": [
    "df"
   ],
   "metadata": {
    "collapsed": false,
    "pycharm": {
     "name": "#%%\n"
    }
   }
  },
  {
   "cell_type": "markdown",
   "source": [
    "# Profile report"
   ],
   "metadata": {
    "collapsed": false,
    "pycharm": {
     "name": "#%% md\n"
    }
   }
  },
  {
   "cell_type": "raw",
   "source": [
    "\n",
    "profile_report = ProfileReport(df,\n",
    "                               explorative=True)\n",
    "path = report_dir / 'pr_beer_reviews_raw'\n",
    "profile_report.to_file(path.with_suffix('.html'))\n"
   ],
   "metadata": {
    "collapsed": false,
    "pycharm": {
     "name": "#%% raw\n"
    }
   }
  },
  {
   "cell_type": "markdown",
   "source": [
    "# Subset data\n",
    "\n",
    "The target variable is `beer_style`.\n",
    "\n",
    "The required parameters for the API are:\n",
    "* `brewery_name`\n",
    "* `review_aroma`\n",
    "* `review_appearance`\n",
    "* `review_palate`\n",
    "* `review_taste`\n",
    "\n",
    "So the model will be trained on this subset of the data."
   ],
   "metadata": {
    "collapsed": false,
    "pycharm": {
     "name": "#%% md\n"
    }
   }
  },
  {
   "cell_type": "code",
   "execution_count": 14,
   "outputs": [],
   "source": [
    "target = 'beer_style'\n",
    "col_list = [target] + [\n",
    "    'brewery_name',\n",
    "    'review_aroma',\n",
    "    'review_appearance',\n",
    "    'review_palate',\n",
    "    'review_taste'\n",
    "]\n",
    "df_subset = df[col_list]"
   ],
   "metadata": {
    "collapsed": false,
    "pycharm": {
     "name": "#%%\n"
    }
   }
  },
  {
   "cell_type": "code",
   "execution_count": 10,
   "outputs": [
    {
     "data": {
      "text/plain": "       review_aroma  review_appearance  review_palate  review_taste\ncount  1.586614e+06       1.586614e+06   1.586614e+06  1.586614e+06\nmean   3.735636e+00       3.841642e+00   3.743701e+00  3.792860e+00\nstd    6.976167e-01       6.160928e-01   6.822184e-01  7.319696e-01\nmin    1.000000e+00       0.000000e+00   1.000000e+00  1.000000e+00\n25%    3.500000e+00       3.500000e+00   3.500000e+00  3.500000e+00\n50%    4.000000e+00       4.000000e+00   4.000000e+00  4.000000e+00\n75%    4.000000e+00       4.000000e+00   4.000000e+00  4.500000e+00\nmax    5.000000e+00       5.000000e+00   5.000000e+00  5.000000e+00",
      "text/html": "<div>\n<style scoped>\n    .dataframe tbody tr th:only-of-type {\n        vertical-align: middle;\n    }\n\n    .dataframe tbody tr th {\n        vertical-align: top;\n    }\n\n    .dataframe thead th {\n        text-align: right;\n    }\n</style>\n<table border=\"1\" class=\"dataframe\">\n  <thead>\n    <tr style=\"text-align: right;\">\n      <th></th>\n      <th>review_aroma</th>\n      <th>review_appearance</th>\n      <th>review_palate</th>\n      <th>review_taste</th>\n    </tr>\n  </thead>\n  <tbody>\n    <tr>\n      <th>count</th>\n      <td>1.586614e+06</td>\n      <td>1.586614e+06</td>\n      <td>1.586614e+06</td>\n      <td>1.586614e+06</td>\n    </tr>\n    <tr>\n      <th>mean</th>\n      <td>3.735636e+00</td>\n      <td>3.841642e+00</td>\n      <td>3.743701e+00</td>\n      <td>3.792860e+00</td>\n    </tr>\n    <tr>\n      <th>std</th>\n      <td>6.976167e-01</td>\n      <td>6.160928e-01</td>\n      <td>6.822184e-01</td>\n      <td>7.319696e-01</td>\n    </tr>\n    <tr>\n      <th>min</th>\n      <td>1.000000e+00</td>\n      <td>0.000000e+00</td>\n      <td>1.000000e+00</td>\n      <td>1.000000e+00</td>\n    </tr>\n    <tr>\n      <th>25%</th>\n      <td>3.500000e+00</td>\n      <td>3.500000e+00</td>\n      <td>3.500000e+00</td>\n      <td>3.500000e+00</td>\n    </tr>\n    <tr>\n      <th>50%</th>\n      <td>4.000000e+00</td>\n      <td>4.000000e+00</td>\n      <td>4.000000e+00</td>\n      <td>4.000000e+00</td>\n    </tr>\n    <tr>\n      <th>75%</th>\n      <td>4.000000e+00</td>\n      <td>4.000000e+00</td>\n      <td>4.000000e+00</td>\n      <td>4.500000e+00</td>\n    </tr>\n    <tr>\n      <th>max</th>\n      <td>5.000000e+00</td>\n      <td>5.000000e+00</td>\n      <td>5.000000e+00</td>\n      <td>5.000000e+00</td>\n    </tr>\n  </tbody>\n</table>\n</div>"
     },
     "execution_count": 10,
     "metadata": {},
     "output_type": "execute_result"
    }
   ],
   "source": [
    "df_subset.describe()"
   ],
   "metadata": {
    "collapsed": false,
    "pycharm": {
     "name": "#%%\n"
    }
   }
  },
  {
   "cell_type": "code",
   "execution_count": 12,
   "outputs": [
    {
     "name": "stdout",
     "output_type": "stream",
     "text": [
      "<class 'pandas.core.frame.DataFrame'>\n",
      "RangeIndex: 1586614 entries, 0 to 1586613\n",
      "Data columns (total 6 columns):\n",
      " #   Column             Non-Null Count    Dtype  \n",
      "---  ------             --------------    -----  \n",
      " 0   beer_style         1586614 non-null  object \n",
      " 1   brewery_name       1586599 non-null  object \n",
      " 2   review_aroma       1586614 non-null  float64\n",
      " 3   review_appearance  1586614 non-null  float64\n",
      " 4   review_palate      1586614 non-null  float64\n",
      " 5   review_taste       1586614 non-null  float64\n",
      "dtypes: float64(4), object(2)\n",
      "memory usage: 72.6+ MB\n"
     ]
    }
   ],
   "source": [
    "df_subset.info()"
   ],
   "metadata": {
    "collapsed": false,
    "pycharm": {
     "name": "#%%\n"
    }
   }
  },
  {
   "cell_type": "code",
   "execution_count": null,
   "outputs": [],
   "source": [
    "path = processed_data_dir / 'subset'\n",
    "df_subset.to_csv(path.with_suffix('.csv'), index=False)\n",
    "df_subset.to_parquet(path.with_suffix('.parquet'), index=False)"
   ],
   "metadata": {
    "collapsed": false,
    "pycharm": {
     "name": "#%%\n"
    }
   }
  },
  {
   "cell_type": "markdown",
   "source": [
    "## Split data"
   ],
   "metadata": {
    "collapsed": false,
    "pycharm": {
     "name": "#%% md\n"
    }
   }
  },
  {
   "cell_type": "code",
   "execution_count": 18,
   "outputs": [],
   "source": [
    "X = df_subset.copy(deep=True)\n",
    "y = X.pop(target)\n",
    "\n",
    "X_train, X_test, y_train, y_test = train_test_split(\n",
    "    X,\n",
    "    y,\n",
    "    test_size=0.2,\n",
    "    random_state=42\n",
    ")"
   ],
   "metadata": {
    "collapsed": false,
    "pycharm": {
     "name": "#%%\n"
    }
   }
  },
  {
   "cell_type": "code",
   "execution_count": 24,
   "outputs": [
    {
     "ename": "AttributeError",
     "evalue": "'Series' object has no attribute 'to_parquet'",
     "output_type": "error",
     "traceback": [
      "\u001B[1;31m---------------------------------------------------------------------------\u001B[0m",
      "\u001B[1;31mAttributeError\u001B[0m                            Traceback (most recent call last)",
      "\u001B[1;32m<ipython-input-24-e90f6e6659a8>\u001B[0m in \u001B[0;36m<module>\u001B[1;34m\u001B[0m\n\u001B[0;32m      3\u001B[0m           \u001B[0my_train\u001B[0m\u001B[1;33m=\u001B[0m\u001B[0my_train\u001B[0m\u001B[1;33m,\u001B[0m\u001B[1;33m\u001B[0m\u001B[1;33m\u001B[0m\u001B[0m\n\u001B[0;32m      4\u001B[0m           \u001B[0my_test\u001B[0m\u001B[1;33m=\u001B[0m\u001B[0my_test\u001B[0m\u001B[1;33m,\u001B[0m\u001B[1;33m\u001B[0m\u001B[1;33m\u001B[0m\u001B[0m\n\u001B[1;32m----> 5\u001B[1;33m           path=processed_data_dir)\n\u001B[0m",
      "\u001B[1;32mD:\\git\\assignment_2\\src\\data\\sets.py\u001B[0m in \u001B[0;36msave_sets\u001B[1;34m(X_train, y_train, X_val, y_val, X_test, y_test, path)\u001B[0m\n\u001B[0;32m     35\u001B[0m         \u001B[0mX_train\u001B[0m\u001B[1;33m.\u001B[0m\u001B[0mto_parquet\u001B[0m\u001B[1;33m(\u001B[0m\u001B[0mpath\u001B[0m\u001B[1;33m.\u001B[0m\u001B[0mjoinpath\u001B[0m\u001B[1;33m(\u001B[0m\u001B[1;34m'X_train.parquet'\u001B[0m\u001B[1;33m)\u001B[0m\u001B[1;33m,\u001B[0m \u001B[0mindex\u001B[0m\u001B[1;33m=\u001B[0m\u001B[1;32mFalse\u001B[0m\u001B[1;33m)\u001B[0m\u001B[1;33m\u001B[0m\u001B[1;33m\u001B[0m\u001B[0m\n\u001B[0;32m     36\u001B[0m     \u001B[1;32mif\u001B[0m \u001B[0my_train\u001B[0m \u001B[1;32mis\u001B[0m \u001B[1;32mnot\u001B[0m \u001B[1;32mNone\u001B[0m\u001B[1;33m:\u001B[0m\u001B[1;33m\u001B[0m\u001B[1;33m\u001B[0m\u001B[0m\n\u001B[1;32m---> 37\u001B[1;33m         \u001B[0my_train\u001B[0m\u001B[1;33m.\u001B[0m\u001B[0mto_parquet\u001B[0m\u001B[1;33m(\u001B[0m\u001B[0mpath\u001B[0m\u001B[1;33m.\u001B[0m\u001B[0mjoinpath\u001B[0m\u001B[1;33m(\u001B[0m\u001B[1;34m'y_train.parquet'\u001B[0m\u001B[1;33m)\u001B[0m\u001B[1;33m,\u001B[0m \u001B[0mindex\u001B[0m\u001B[1;33m=\u001B[0m\u001B[1;32mFalse\u001B[0m\u001B[1;33m)\u001B[0m\u001B[1;33m\u001B[0m\u001B[1;33m\u001B[0m\u001B[0m\n\u001B[0m\u001B[0;32m     38\u001B[0m     \u001B[1;32mif\u001B[0m \u001B[0mX_val\u001B[0m \u001B[1;32mis\u001B[0m \u001B[1;32mnot\u001B[0m \u001B[1;32mNone\u001B[0m\u001B[1;33m:\u001B[0m\u001B[1;33m\u001B[0m\u001B[1;33m\u001B[0m\u001B[0m\n\u001B[0;32m     39\u001B[0m         \u001B[0mX_val\u001B[0m\u001B[1;33m.\u001B[0m\u001B[0mto_parquet\u001B[0m\u001B[1;33m(\u001B[0m\u001B[0mpath\u001B[0m\u001B[1;33m.\u001B[0m\u001B[0mjoinpath\u001B[0m\u001B[1;33m(\u001B[0m\u001B[1;34m'X_val.parquet'\u001B[0m\u001B[1;33m)\u001B[0m\u001B[1;33m,\u001B[0m \u001B[0mindex\u001B[0m\u001B[1;33m=\u001B[0m\u001B[1;32mFalse\u001B[0m\u001B[1;33m)\u001B[0m\u001B[1;33m\u001B[0m\u001B[1;33m\u001B[0m\u001B[0m\n",
      "\u001B[1;32m~\\.conda\\envs\\mdsi_deep_learning\\lib\\site-packages\\pandas\\core\\generic.py\u001B[0m in \u001B[0;36m__getattr__\u001B[1;34m(self, name)\u001B[0m\n\u001B[0;32m   5272\u001B[0m             \u001B[1;32mif\u001B[0m \u001B[0mself\u001B[0m\u001B[1;33m.\u001B[0m\u001B[0m_info_axis\u001B[0m\u001B[1;33m.\u001B[0m\u001B[0m_can_hold_identifiers_and_holds_name\u001B[0m\u001B[1;33m(\u001B[0m\u001B[0mname\u001B[0m\u001B[1;33m)\u001B[0m\u001B[1;33m:\u001B[0m\u001B[1;33m\u001B[0m\u001B[1;33m\u001B[0m\u001B[0m\n\u001B[0;32m   5273\u001B[0m                 \u001B[1;32mreturn\u001B[0m \u001B[0mself\u001B[0m\u001B[1;33m[\u001B[0m\u001B[0mname\u001B[0m\u001B[1;33m]\u001B[0m\u001B[1;33m\u001B[0m\u001B[1;33m\u001B[0m\u001B[0m\n\u001B[1;32m-> 5274\u001B[1;33m             \u001B[1;32mreturn\u001B[0m \u001B[0mobject\u001B[0m\u001B[1;33m.\u001B[0m\u001B[0m__getattribute__\u001B[0m\u001B[1;33m(\u001B[0m\u001B[0mself\u001B[0m\u001B[1;33m,\u001B[0m \u001B[0mname\u001B[0m\u001B[1;33m)\u001B[0m\u001B[1;33m\u001B[0m\u001B[1;33m\u001B[0m\u001B[0m\n\u001B[0m\u001B[0;32m   5275\u001B[0m \u001B[1;33m\u001B[0m\u001B[0m\n\u001B[0;32m   5276\u001B[0m     \u001B[1;32mdef\u001B[0m \u001B[0m__setattr__\u001B[0m\u001B[1;33m(\u001B[0m\u001B[0mself\u001B[0m\u001B[1;33m,\u001B[0m \u001B[0mname\u001B[0m\u001B[1;33m:\u001B[0m \u001B[0mstr\u001B[0m\u001B[1;33m,\u001B[0m \u001B[0mvalue\u001B[0m\u001B[1;33m)\u001B[0m \u001B[1;33m->\u001B[0m \u001B[1;32mNone\u001B[0m\u001B[1;33m:\u001B[0m\u001B[1;33m\u001B[0m\u001B[1;33m\u001B[0m\u001B[0m\n",
      "\u001B[1;31mAttributeError\u001B[0m: 'Series' object has no attribute 'to_parquet'"
     ]
    }
   ],
   "source": [
    "save_sets(X_train=X_train,\n",
    "          X_test=X_test,\n",
    "          y_train=y_train,\n",
    "          y_test=y_test,\n",
    "          path=processed_data_dir)"
   ],
   "metadata": {
    "collapsed": false,
    "pycharm": {
     "name": "#%%\n"
    }
   }
  }
 ],
 "metadata": {
  "kernelspec": {
   "name": "mdsi_deep_learning",
   "language": "python",
   "display_name": "Python (mdsi_deep_learning)"
  },
  "language_info": {
   "codemirror_mode": {
    "name": "ipython",
    "version": 3
   },
   "file_extension": ".py",
   "mimetype": "text/x-python",
   "name": "python",
   "nbconvert_exporter": "python",
   "pygments_lexer": "ipython3",
   "version": "3.7.6"
  }
 },
 "nbformat": 4,
 "nbformat_minor": 4
}